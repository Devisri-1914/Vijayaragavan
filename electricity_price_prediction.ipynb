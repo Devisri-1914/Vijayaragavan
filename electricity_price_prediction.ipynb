{
  "metadata": {
    "kernelspec": {
      "language": "python",
      "display_name": "Python 3",
      "name": "python3"
    },
    "language_info": {
      "pygments_lexer": "ipython3",
      "nbconvert_exporter": "python",
      "version": "3.6.4",
      "file_extension": ".py",
      "codemirror_mode": {
        "name": "ipython",
        "version": 3
      },
      "name": "python",
      "mimetype": "text/x-python"
    },
    "colab": {
      "provenance": []
    }
  },
  "nbformat_minor": 0,
  "nbformat": 4,
  "cells": [
    {
      "cell_type": "markdown",
      "source": [
        "Importing libraries we will need in this prediction model"
      ],
      "metadata": {
        "id": "IvKKXQRVbIAv"
      }
    },
    {
      "cell_type": "code",
      "source": [
        "import numpy as np\n",
        "import pandas as pd\n",
        "import matplotlib.pyplot as plt\n",
        "import seaborn as sns\n",
        "from sklearn.model_selection import train_test_split\n",
        "from sklearn.metrics import mean_squared_error\n",
        "from sklearn.ensemble import RandomForestRegressor\n",
        "from sklearn.tree import DecisionTreeRegressor\n",
        "from sklearn.linear_model import LinearRegression\n",
        "from sklearn.neighbors import KNeighborsRegressor"
      ],
      "metadata": {
        "execution": {
          "iopub.status.busy": "2023-02-09T11:07:59.463788Z",
          "iopub.execute_input": "2023-02-09T11:07:59.464289Z",
          "iopub.status.idle": "2023-02-09T11:07:59.660849Z",
          "shell.execute_reply.started": "2023-02-09T11:07:59.464239Z",
          "shell.execute_reply": "2023-02-09T11:07:59.659629Z"
        },
        "trusted": true,
        "id": "gBv0mFmVbIAx"
      },
      "execution_count": 26,
      "outputs": []
    },
    {
      "cell_type": "code",
      "source": [
        "df=pd.read_csv(\"/content/Electricity.csv\", low_memory=False)\n",
        "df.head()"
      ],
      "metadata": {
        "execution": {
          "iopub.status.busy": "2023-02-09T10:24:13.203335Z",
          "iopub.execute_input": "2023-02-09T10:24:13.203733Z",
          "iopub.status.idle": "2023-02-09T10:24:13.394525Z",
          "shell.execute_reply.started": "2023-02-09T10:24:13.203703Z",
          "shell.execute_reply": "2023-02-09T10:24:13.393669Z"
        },
        "trusted": true,
        "colab": {
          "base_uri": "https://localhost:8080/",
          "height": 313
        },
        "id": "Z3o7k15FbIAy",
        "outputId": "704586a7-01c3-4651-a262-50147907ac04"
      },
      "execution_count": 27,
      "outputs": [
        {
          "output_type": "execute_result",
          "data": {
            "text/plain": [
              "           DateTime Holiday  HolidayFlag  DayOfWeek  WeekOfYear  Day  Month  \\\n",
              "0  01/11/2011 00:00    None            0          1          44    1     11   \n",
              "1  01/11/2011 00:30    None            0          1          44    1     11   \n",
              "2  01/11/2011 01:00    None            0          1          44    1     11   \n",
              "3  01/11/2011 01:30    None            0          1          44    1     11   \n",
              "4  01/11/2011 02:00    None            0          1          44    1     11   \n",
              "\n",
              "   Year  PeriodOfDay ForecastWindProduction SystemLoadEA  SMPEA  \\\n",
              "0  2011            0                 315.31      3388.77  49.26   \n",
              "1  2011            1                 321.80      3196.66  49.26   \n",
              "2  2011            2                 328.57      3060.71  49.10   \n",
              "3  2011            3                 335.60      2945.56  48.04   \n",
              "4  2011            4                 342.90      2849.34  33.75   \n",
              "\n",
              "  ORKTemperature ORKWindspeed CO2Intensity ActualWindProduction SystemLoadEP2  \\\n",
              "0           6.00         9.30       600.71               356.00       3159.60   \n",
              "1           6.00        11.10       605.42               317.00       2973.01   \n",
              "2           5.00        11.10       589.97               311.00       2834.00   \n",
              "3           6.00         9.30       585.94               313.00       2725.99   \n",
              "4           6.00        11.10       571.52               346.00       2655.64   \n",
              "\n",
              "  SMPEP2  \n",
              "0  54.32  \n",
              "1  54.23  \n",
              "2  54.23  \n",
              "3  53.47  \n",
              "4  39.87  "
            ],
            "text/html": [
              "\n",
              "  <div id=\"df-2ab10d3c-8675-4a6d-bc36-de525e605810\" class=\"colab-df-container\">\n",
              "    <div>\n",
              "<style scoped>\n",
              "    .dataframe tbody tr th:only-of-type {\n",
              "        vertical-align: middle;\n",
              "    }\n",
              "\n",
              "    .dataframe tbody tr th {\n",
              "        vertical-align: top;\n",
              "    }\n",
              "\n",
              "    .dataframe thead th {\n",
              "        text-align: right;\n",
              "    }\n",
              "</style>\n",
              "<table border=\"1\" class=\"dataframe\">\n",
              "  <thead>\n",
              "    <tr style=\"text-align: right;\">\n",
              "      <th></th>\n",
              "      <th>DateTime</th>\n",
              "      <th>Holiday</th>\n",
              "      <th>HolidayFlag</th>\n",
              "      <th>DayOfWeek</th>\n",
              "      <th>WeekOfYear</th>\n",
              "      <th>Day</th>\n",
              "      <th>Month</th>\n",
              "      <th>Year</th>\n",
              "      <th>PeriodOfDay</th>\n",
              "      <th>ForecastWindProduction</th>\n",
              "      <th>SystemLoadEA</th>\n",
              "      <th>SMPEA</th>\n",
              "      <th>ORKTemperature</th>\n",
              "      <th>ORKWindspeed</th>\n",
              "      <th>CO2Intensity</th>\n",
              "      <th>ActualWindProduction</th>\n",
              "      <th>SystemLoadEP2</th>\n",
              "      <th>SMPEP2</th>\n",
              "    </tr>\n",
              "  </thead>\n",
              "  <tbody>\n",
              "    <tr>\n",
              "      <th>0</th>\n",
              "      <td>01/11/2011 00:00</td>\n",
              "      <td>None</td>\n",
              "      <td>0</td>\n",
              "      <td>1</td>\n",
              "      <td>44</td>\n",
              "      <td>1</td>\n",
              "      <td>11</td>\n",
              "      <td>2011</td>\n",
              "      <td>0</td>\n",
              "      <td>315.31</td>\n",
              "      <td>3388.77</td>\n",
              "      <td>49.26</td>\n",
              "      <td>6.00</td>\n",
              "      <td>9.30</td>\n",
              "      <td>600.71</td>\n",
              "      <td>356.00</td>\n",
              "      <td>3159.60</td>\n",
              "      <td>54.32</td>\n",
              "    </tr>\n",
              "    <tr>\n",
              "      <th>1</th>\n",
              "      <td>01/11/2011 00:30</td>\n",
              "      <td>None</td>\n",
              "      <td>0</td>\n",
              "      <td>1</td>\n",
              "      <td>44</td>\n",
              "      <td>1</td>\n",
              "      <td>11</td>\n",
              "      <td>2011</td>\n",
              "      <td>1</td>\n",
              "      <td>321.80</td>\n",
              "      <td>3196.66</td>\n",
              "      <td>49.26</td>\n",
              "      <td>6.00</td>\n",
              "      <td>11.10</td>\n",
              "      <td>605.42</td>\n",
              "      <td>317.00</td>\n",
              "      <td>2973.01</td>\n",
              "      <td>54.23</td>\n",
              "    </tr>\n",
              "    <tr>\n",
              "      <th>2</th>\n",
              "      <td>01/11/2011 01:00</td>\n",
              "      <td>None</td>\n",
              "      <td>0</td>\n",
              "      <td>1</td>\n",
              "      <td>44</td>\n",
              "      <td>1</td>\n",
              "      <td>11</td>\n",
              "      <td>2011</td>\n",
              "      <td>2</td>\n",
              "      <td>328.57</td>\n",
              "      <td>3060.71</td>\n",
              "      <td>49.10</td>\n",
              "      <td>5.00</td>\n",
              "      <td>11.10</td>\n",
              "      <td>589.97</td>\n",
              "      <td>311.00</td>\n",
              "      <td>2834.00</td>\n",
              "      <td>54.23</td>\n",
              "    </tr>\n",
              "    <tr>\n",
              "      <th>3</th>\n",
              "      <td>01/11/2011 01:30</td>\n",
              "      <td>None</td>\n",
              "      <td>0</td>\n",
              "      <td>1</td>\n",
              "      <td>44</td>\n",
              "      <td>1</td>\n",
              "      <td>11</td>\n",
              "      <td>2011</td>\n",
              "      <td>3</td>\n",
              "      <td>335.60</td>\n",
              "      <td>2945.56</td>\n",
              "      <td>48.04</td>\n",
              "      <td>6.00</td>\n",
              "      <td>9.30</td>\n",
              "      <td>585.94</td>\n",
              "      <td>313.00</td>\n",
              "      <td>2725.99</td>\n",
              "      <td>53.47</td>\n",
              "    </tr>\n",
              "    <tr>\n",
              "      <th>4</th>\n",
              "      <td>01/11/2011 02:00</td>\n",
              "      <td>None</td>\n",
              "      <td>0</td>\n",
              "      <td>1</td>\n",
              "      <td>44</td>\n",
              "      <td>1</td>\n",
              "      <td>11</td>\n",
              "      <td>2011</td>\n",
              "      <td>4</td>\n",
              "      <td>342.90</td>\n",
              "      <td>2849.34</td>\n",
              "      <td>33.75</td>\n",
              "      <td>6.00</td>\n",
              "      <td>11.10</td>\n",
              "      <td>571.52</td>\n",
              "      <td>346.00</td>\n",
              "      <td>2655.64</td>\n",
              "      <td>39.87</td>\n",
              "    </tr>\n",
              "  </tbody>\n",
              "</table>\n",
              "</div>\n",
              "    <div class=\"colab-df-buttons\">\n",
              "\n",
              "  <div class=\"colab-df-container\">\n",
              "    <button class=\"colab-df-convert\" onclick=\"convertToInteractive('df-2ab10d3c-8675-4a6d-bc36-de525e605810')\"\n",
              "            title=\"Convert this dataframe to an interactive table.\"\n",
              "            style=\"display:none;\">\n",
              "\n",
              "  <svg xmlns=\"http://www.w3.org/2000/svg\" height=\"24px\" viewBox=\"0 -960 960 960\">\n",
              "    <path d=\"M120-120v-720h720v720H120Zm60-500h600v-160H180v160Zm220 220h160v-160H400v160Zm0 220h160v-160H400v160ZM180-400h160v-160H180v160Zm440 0h160v-160H620v160ZM180-180h160v-160H180v160Zm440 0h160v-160H620v160Z\"/>\n",
              "  </svg>\n",
              "    </button>\n",
              "\n",
              "  <style>\n",
              "    .colab-df-container {\n",
              "      display:flex;\n",
              "      gap: 12px;\n",
              "    }\n",
              "\n",
              "    .colab-df-convert {\n",
              "      background-color: #E8F0FE;\n",
              "      border: none;\n",
              "      border-radius: 50%;\n",
              "      cursor: pointer;\n",
              "      display: none;\n",
              "      fill: #1967D2;\n",
              "      height: 32px;\n",
              "      padding: 0 0 0 0;\n",
              "      width: 32px;\n",
              "    }\n",
              "\n",
              "    .colab-df-convert:hover {\n",
              "      background-color: #E2EBFA;\n",
              "      box-shadow: 0px 1px 2px rgba(60, 64, 67, 0.3), 0px 1px 3px 1px rgba(60, 64, 67, 0.15);\n",
              "      fill: #174EA6;\n",
              "    }\n",
              "\n",
              "    .colab-df-buttons div {\n",
              "      margin-bottom: 4px;\n",
              "    }\n",
              "\n",
              "    [theme=dark] .colab-df-convert {\n",
              "      background-color: #3B4455;\n",
              "      fill: #D2E3FC;\n",
              "    }\n",
              "\n",
              "    [theme=dark] .colab-df-convert:hover {\n",
              "      background-color: #434B5C;\n",
              "      box-shadow: 0px 1px 3px 1px rgba(0, 0, 0, 0.15);\n",
              "      filter: drop-shadow(0px 1px 2px rgba(0, 0, 0, 0.3));\n",
              "      fill: #FFFFFF;\n",
              "    }\n",
              "  </style>\n",
              "\n",
              "    <script>\n",
              "      const buttonEl =\n",
              "        document.querySelector('#df-2ab10d3c-8675-4a6d-bc36-de525e605810 button.colab-df-convert');\n",
              "      buttonEl.style.display =\n",
              "        google.colab.kernel.accessAllowed ? 'block' : 'none';\n",
              "\n",
              "      async function convertToInteractive(key) {\n",
              "        const element = document.querySelector('#df-2ab10d3c-8675-4a6d-bc36-de525e605810');\n",
              "        const dataTable =\n",
              "          await google.colab.kernel.invokeFunction('convertToInteractive',\n",
              "                                                    [key], {});\n",
              "        if (!dataTable) return;\n",
              "\n",
              "        const docLinkHtml = 'Like what you see? Visit the ' +\n",
              "          '<a target=\"_blank\" href=https://colab.research.google.com/notebooks/data_table.ipynb>data table notebook</a>'\n",
              "          + ' to learn more about interactive tables.';\n",
              "        element.innerHTML = '';\n",
              "        dataTable['output_type'] = 'display_data';\n",
              "        await google.colab.output.renderOutput(dataTable, element);\n",
              "        const docLink = document.createElement('div');\n",
              "        docLink.innerHTML = docLinkHtml;\n",
              "        element.appendChild(docLink);\n",
              "      }\n",
              "    </script>\n",
              "  </div>\n",
              "\n",
              "\n",
              "<div id=\"df-84d6741b-0e88-4b3e-8f4a-aa1b1b671351\">\n",
              "  <button class=\"colab-df-quickchart\" onclick=\"quickchart('df-84d6741b-0e88-4b3e-8f4a-aa1b1b671351')\"\n",
              "            title=\"Suggest charts.\"\n",
              "            style=\"display:none;\">\n",
              "\n",
              "<svg xmlns=\"http://www.w3.org/2000/svg\" height=\"24px\"viewBox=\"0 0 24 24\"\n",
              "     width=\"24px\">\n",
              "    <g>\n",
              "        <path d=\"M19 3H5c-1.1 0-2 .9-2 2v14c0 1.1.9 2 2 2h14c1.1 0 2-.9 2-2V5c0-1.1-.9-2-2-2zM9 17H7v-7h2v7zm4 0h-2V7h2v10zm4 0h-2v-4h2v4z\"/>\n",
              "    </g>\n",
              "</svg>\n",
              "  </button>\n",
              "\n",
              "<style>\n",
              "  .colab-df-quickchart {\n",
              "      --bg-color: #E8F0FE;\n",
              "      --fill-color: #1967D2;\n",
              "      --hover-bg-color: #E2EBFA;\n",
              "      --hover-fill-color: #174EA6;\n",
              "      --disabled-fill-color: #AAA;\n",
              "      --disabled-bg-color: #DDD;\n",
              "  }\n",
              "\n",
              "  [theme=dark] .colab-df-quickchart {\n",
              "      --bg-color: #3B4455;\n",
              "      --fill-color: #D2E3FC;\n",
              "      --hover-bg-color: #434B5C;\n",
              "      --hover-fill-color: #FFFFFF;\n",
              "      --disabled-bg-color: #3B4455;\n",
              "      --disabled-fill-color: #666;\n",
              "  }\n",
              "\n",
              "  .colab-df-quickchart {\n",
              "    background-color: var(--bg-color);\n",
              "    border: none;\n",
              "    border-radius: 50%;\n",
              "    cursor: pointer;\n",
              "    display: none;\n",
              "    fill: var(--fill-color);\n",
              "    height: 32px;\n",
              "    padding: 0;\n",
              "    width: 32px;\n",
              "  }\n",
              "\n",
              "  .colab-df-quickchart:hover {\n",
              "    background-color: var(--hover-bg-color);\n",
              "    box-shadow: 0 1px 2px rgba(60, 64, 67, 0.3), 0 1px 3px 1px rgba(60, 64, 67, 0.15);\n",
              "    fill: var(--button-hover-fill-color);\n",
              "  }\n",
              "\n",
              "  .colab-df-quickchart-complete:disabled,\n",
              "  .colab-df-quickchart-complete:disabled:hover {\n",
              "    background-color: var(--disabled-bg-color);\n",
              "    fill: var(--disabled-fill-color);\n",
              "    box-shadow: none;\n",
              "  }\n",
              "\n",
              "  .colab-df-spinner {\n",
              "    border: 2px solid var(--fill-color);\n",
              "    border-color: transparent;\n",
              "    border-bottom-color: var(--fill-color);\n",
              "    animation:\n",
              "      spin 1s steps(1) infinite;\n",
              "  }\n",
              "\n",
              "  @keyframes spin {\n",
              "    0% {\n",
              "      border-color: transparent;\n",
              "      border-bottom-color: var(--fill-color);\n",
              "      border-left-color: var(--fill-color);\n",
              "    }\n",
              "    20% {\n",
              "      border-color: transparent;\n",
              "      border-left-color: var(--fill-color);\n",
              "      border-top-color: var(--fill-color);\n",
              "    }\n",
              "    30% {\n",
              "      border-color: transparent;\n",
              "      border-left-color: var(--fill-color);\n",
              "      border-top-color: var(--fill-color);\n",
              "      border-right-color: var(--fill-color);\n",
              "    }\n",
              "    40% {\n",
              "      border-color: transparent;\n",
              "      border-right-color: var(--fill-color);\n",
              "      border-top-color: var(--fill-color);\n",
              "    }\n",
              "    60% {\n",
              "      border-color: transparent;\n",
              "      border-right-color: var(--fill-color);\n",
              "    }\n",
              "    80% {\n",
              "      border-color: transparent;\n",
              "      border-right-color: var(--fill-color);\n",
              "      border-bottom-color: var(--fill-color);\n",
              "    }\n",
              "    90% {\n",
              "      border-color: transparent;\n",
              "      border-bottom-color: var(--fill-color);\n",
              "    }\n",
              "  }\n",
              "</style>\n",
              "\n",
              "  <script>\n",
              "    async function quickchart(key) {\n",
              "      const quickchartButtonEl =\n",
              "        document.querySelector('#' + key + ' button');\n",
              "      quickchartButtonEl.disabled = true;  // To prevent multiple clicks.\n",
              "      quickchartButtonEl.classList.add('colab-df-spinner');\n",
              "      try {\n",
              "        const charts = await google.colab.kernel.invokeFunction(\n",
              "            'suggestCharts', [key], {});\n",
              "      } catch (error) {\n",
              "        console.error('Error during call to suggestCharts:', error);\n",
              "      }\n",
              "      quickchartButtonEl.classList.remove('colab-df-spinner');\n",
              "      quickchartButtonEl.classList.add('colab-df-quickchart-complete');\n",
              "    }\n",
              "    (() => {\n",
              "      let quickchartButtonEl =\n",
              "        document.querySelector('#df-84d6741b-0e88-4b3e-8f4a-aa1b1b671351 button');\n",
              "      quickchartButtonEl.style.display =\n",
              "        google.colab.kernel.accessAllowed ? 'block' : 'none';\n",
              "    })();\n",
              "  </script>\n",
              "</div>\n",
              "    </div>\n",
              "  </div>\n"
            ]
          },
          "metadata": {},
          "execution_count": 27
        }
      ]
    },
    {
      "cell_type": "code",
      "source": [
        "df.info()"
      ],
      "metadata": {
        "execution": {
          "iopub.status.busy": "2023-02-09T10:26:48.065917Z",
          "iopub.execute_input": "2023-02-09T10:26:48.067101Z",
          "iopub.status.idle": "2023-02-09T10:26:48.115550Z",
          "shell.execute_reply.started": "2023-02-09T10:26:48.067021Z",
          "shell.execute_reply": "2023-02-09T10:26:48.114296Z"
        },
        "trusted": true,
        "colab": {
          "base_uri": "https://localhost:8080/"
        },
        "id": "2I9Ab5OPbIAy",
        "outputId": "247ce360-58ea-464a-9ff4-7c0918adceb2"
      },
      "execution_count": 28,
      "outputs": [
        {
          "output_type": "stream",
          "name": "stdout",
          "text": [
            "<class 'pandas.core.frame.DataFrame'>\n",
            "RangeIndex: 38014 entries, 0 to 38013\n",
            "Data columns (total 18 columns):\n",
            " #   Column                  Non-Null Count  Dtype \n",
            "---  ------                  --------------  ----- \n",
            " 0   DateTime                38014 non-null  object\n",
            " 1   Holiday                 38014 non-null  object\n",
            " 2   HolidayFlag             38014 non-null  int64 \n",
            " 3   DayOfWeek               38014 non-null  int64 \n",
            " 4   WeekOfYear              38014 non-null  int64 \n",
            " 5   Day                     38014 non-null  int64 \n",
            " 6   Month                   38014 non-null  int64 \n",
            " 7   Year                    38014 non-null  int64 \n",
            " 8   PeriodOfDay             38014 non-null  int64 \n",
            " 9   ForecastWindProduction  38014 non-null  object\n",
            " 10  SystemLoadEA            38014 non-null  object\n",
            " 11  SMPEA                   38014 non-null  object\n",
            " 12  ORKTemperature          38014 non-null  object\n",
            " 13  ORKWindspeed            38014 non-null  object\n",
            " 14  CO2Intensity            38014 non-null  object\n",
            " 15  ActualWindProduction    38014 non-null  object\n",
            " 16  SystemLoadEP2           38014 non-null  object\n",
            " 17  SMPEP2                  38014 non-null  object\n",
            "dtypes: int64(7), object(11)\n",
            "memory usage: 5.2+ MB\n"
          ]
        }
      ]
    },
    {
      "cell_type": "code",
      "source": [
        "data=df[['ForecastWindProduction',\n",
        "       'SystemLoadEA', 'SMPEA', 'ORKTemperature', 'ORKWindspeed',\n",
        "       'CO2Intensity', 'ActualWindProduction', 'SystemLoadEP2', 'SMPEP2']]"
      ],
      "metadata": {
        "execution": {
          "iopub.status.busy": "2023-02-09T10:29:19.540027Z",
          "iopub.execute_input": "2023-02-09T10:29:19.540505Z",
          "iopub.status.idle": "2023-02-09T10:29:19.559142Z",
          "shell.execute_reply.started": "2023-02-09T10:29:19.540465Z",
          "shell.execute_reply": "2023-02-09T10:29:19.558095Z"
        },
        "trusted": true,
        "id": "XsspyfDRbIAy"
      },
      "execution_count": 29,
      "outputs": []
    },
    {
      "cell_type": "code",
      "source": [
        "data.isin(['?']).any()"
      ],
      "metadata": {
        "execution": {
          "iopub.status.busy": "2023-02-09T10:43:57.005227Z",
          "iopub.execute_input": "2023-02-09T10:43:57.005867Z",
          "iopub.status.idle": "2023-02-09T10:43:57.039645Z",
          "shell.execute_reply.started": "2023-02-09T10:43:57.005832Z",
          "shell.execute_reply": "2023-02-09T10:43:57.038325Z"
        },
        "trusted": true,
        "colab": {
          "base_uri": "https://localhost:8080/"
        },
        "id": "SUbuSEvxbIAz",
        "outputId": "5d222ad6-fd14-4919-dc4e-df9f23b8f026"
      },
      "execution_count": 30,
      "outputs": [
        {
          "output_type": "execute_result",
          "data": {
            "text/plain": [
              "ForecastWindProduction    True\n",
              "SystemLoadEA              True\n",
              "SMPEA                     True\n",
              "ORKTemperature            True\n",
              "ORKWindspeed              True\n",
              "CO2Intensity              True\n",
              "ActualWindProduction      True\n",
              "SystemLoadEP2             True\n",
              "SMPEP2                    True\n",
              "dtype: bool"
            ]
          },
          "metadata": {},
          "execution_count": 30
        }
      ]
    },
    {
      "cell_type": "code",
      "source": [
        "for col in data.columns:\n",
        "    data.drop(data.index[data[col] == '?'], inplace=True)"
      ],
      "metadata": {
        "execution": {
          "iopub.status.busy": "2023-02-09T10:54:16.748348Z",
          "iopub.execute_input": "2023-02-09T10:54:16.748904Z",
          "iopub.status.idle": "2023-02-09T10:54:16.862027Z",
          "shell.execute_reply.started": "2023-02-09T10:54:16.748849Z",
          "shell.execute_reply": "2023-02-09T10:54:16.860666Z"
        },
        "collapsed": true,
        "jupyter": {
          "outputs_hidden": true
        },
        "trusted": true,
        "colab": {
          "base_uri": "https://localhost:8080/"
        },
        "id": "zkOc1CDJbIAz",
        "outputId": "8b43ccbf-d03c-421d-de20-d4404ed810f8"
      },
      "execution_count": 31,
      "outputs": [
        {
          "output_type": "stream",
          "name": "stderr",
          "text": [
            "<ipython-input-31-58936c3f229d>:2: SettingWithCopyWarning: \n",
            "A value is trying to be set on a copy of a slice from a DataFrame\n",
            "\n",
            "See the caveats in the documentation: https://pandas.pydata.org/pandas-docs/stable/user_guide/indexing.html#returning-a-view-versus-a-copy\n",
            "  data.drop(data.index[data[col] == '?'], inplace=True)\n"
          ]
        }
      ]
    },
    {
      "cell_type": "code",
      "source": [
        "data=data.apply(pd.to_numeric)\n",
        "data=data.reset_index()\n",
        "data.drop('index', axis=1, inplace=True)"
      ],
      "metadata": {
        "execution": {
          "iopub.status.busy": "2023-02-09T11:10:31.720033Z",
          "iopub.execute_input": "2023-02-09T11:10:31.720504Z",
          "iopub.status.idle": "2023-02-09T11:10:31.737105Z",
          "shell.execute_reply.started": "2023-02-09T11:10:31.720466Z",
          "shell.execute_reply": "2023-02-09T11:10:31.735725Z"
        },
        "trusted": true,
        "id": "4oxDzjlibIAz"
      },
      "execution_count": 32,
      "outputs": []
    },
    {
      "cell_type": "code",
      "source": [
        "data.info()"
      ],
      "metadata": {
        "execution": {
          "iopub.status.busy": "2023-02-09T11:10:34.518100Z",
          "iopub.execute_input": "2023-02-09T11:10:34.518573Z",
          "iopub.status.idle": "2023-02-09T11:10:34.533268Z",
          "shell.execute_reply.started": "2023-02-09T11:10:34.518534Z",
          "shell.execute_reply": "2023-02-09T11:10:34.531945Z"
        },
        "trusted": true,
        "colab": {
          "base_uri": "https://localhost:8080/"
        },
        "id": "T0PnwXj_bIAz",
        "outputId": "e1003775-6fc7-4e58-8605-fc06b5f205e6"
      },
      "execution_count": 33,
      "outputs": [
        {
          "output_type": "stream",
          "name": "stdout",
          "text": [
            "<class 'pandas.core.frame.DataFrame'>\n",
            "RangeIndex: 37682 entries, 0 to 37681\n",
            "Data columns (total 9 columns):\n",
            " #   Column                  Non-Null Count  Dtype  \n",
            "---  ------                  --------------  -----  \n",
            " 0   ForecastWindProduction  37682 non-null  float64\n",
            " 1   SystemLoadEA            37682 non-null  float64\n",
            " 2   SMPEA                   37682 non-null  float64\n",
            " 3   ORKTemperature          37682 non-null  float64\n",
            " 4   ORKWindspeed            37682 non-null  float64\n",
            " 5   CO2Intensity            37682 non-null  float64\n",
            " 6   ActualWindProduction    37682 non-null  float64\n",
            " 7   SystemLoadEP2           37682 non-null  float64\n",
            " 8   SMPEP2                  37682 non-null  float64\n",
            "dtypes: float64(9)\n",
            "memory usage: 2.6 MB\n"
          ]
        }
      ]
    },
    {
      "cell_type": "code",
      "source": [
        "data.corrwith(data['SMPEP2']).abs().sort_values(ascending=False)"
      ],
      "metadata": {
        "execution": {
          "iopub.status.busy": "2023-02-09T11:41:57.516766Z",
          "iopub.execute_input": "2023-02-09T11:41:57.517410Z",
          "iopub.status.idle": "2023-02-09T11:41:57.536522Z",
          "shell.execute_reply.started": "2023-02-09T11:41:57.517375Z",
          "shell.execute_reply": "2023-02-09T11:41:57.535394Z"
        },
        "trusted": true,
        "colab": {
          "base_uri": "https://localhost:8080/"
        },
        "id": "qk2w-EVWbIA0",
        "outputId": "4f930858-be99-4aeb-fb16-76b8e985935d"
      },
      "execution_count": 34,
      "outputs": [
        {
          "output_type": "execute_result",
          "data": {
            "text/plain": [
              "SMPEP2                    1.000000\n",
              "SMPEA                     0.618158\n",
              "SystemLoadEP2             0.517081\n",
              "SystemLoadEA              0.491096\n",
              "ActualWindProduction      0.083434\n",
              "ForecastWindProduction    0.079639\n",
              "ORKWindspeed              0.035436\n",
              "CO2Intensity              0.035055\n",
              "ORKTemperature            0.009087\n",
              "dtype: float64"
            ]
          },
          "metadata": {},
          "execution_count": 34
        }
      ]
    },
    {
      "cell_type": "code",
      "source": [
        "X=data.drop('SMPEP2', axis=1)\n",
        "y=data['SMPEP2']"
      ],
      "metadata": {
        "execution": {
          "iopub.status.busy": "2023-02-09T11:15:52.919117Z",
          "iopub.execute_input": "2023-02-09T11:15:52.919624Z",
          "iopub.status.idle": "2023-02-09T11:15:52.926358Z",
          "shell.execute_reply.started": "2023-02-09T11:15:52.919586Z",
          "shell.execute_reply": "2023-02-09T11:15:52.925148Z"
        },
        "trusted": true,
        "id": "pnuNuVlCbIA0"
      },
      "execution_count": 35,
      "outputs": []
    },
    {
      "cell_type": "markdown",
      "source": [
        "To Machine Learning"
      ],
      "metadata": {
        "id": "z3nEDBzZbIA0"
      }
    },
    {
      "cell_type": "code",
      "source": [
        "x_train, x_test, y_train, y_test=train_test_split(X,y, test_size=0.2, random_state=42)"
      ],
      "metadata": {
        "execution": {
          "iopub.status.busy": "2023-02-09T11:16:39.552229Z",
          "iopub.execute_input": "2023-02-09T11:16:39.552638Z",
          "iopub.status.idle": "2023-02-09T11:16:39.568822Z",
          "shell.execute_reply.started": "2023-02-09T11:16:39.552607Z",
          "shell.execute_reply": "2023-02-09T11:16:39.567346Z"
        },
        "trusted": true,
        "id": "t0ZEtVlebIA1"
      },
      "execution_count": 36,
      "outputs": []
    },
    {
      "cell_type": "markdown",
      "source": [
        "LinearRegression"
      ],
      "metadata": {
        "id": "Y7-ntrwbbIA1"
      }
    },
    {
      "cell_type": "code",
      "source": [
        "linear_model=LinearRegression()\n",
        "linear_model.fit(x_train, y_train)\n",
        "linear_predict=linear_model.predict(x_test)\n",
        "np.sqrt(mean_squared_error(y_test, linear_predict))"
      ],
      "metadata": {
        "execution": {
          "iopub.status.busy": "2023-02-09T11:24:12.541575Z",
          "iopub.execute_input": "2023-02-09T11:24:12.542028Z",
          "iopub.status.idle": "2023-02-09T11:24:12.586936Z",
          "shell.execute_reply.started": "2023-02-09T11:24:12.541986Z",
          "shell.execute_reply": "2023-02-09T11:24:12.585140Z"
        },
        "trusted": true,
        "colab": {
          "base_uri": "https://localhost:8080/"
        },
        "id": "u3WVGxonbIA1",
        "outputId": "3d5cec85-b3c5-43ba-9d35-a49b4e2b6ff7"
      },
      "execution_count": 37,
      "outputs": [
        {
          "output_type": "execute_result",
          "data": {
            "text/plain": [
              "27.862965246485324"
            ]
          },
          "metadata": {},
          "execution_count": 37
        }
      ]
    },
    {
      "cell_type": "markdown",
      "source": [
        "RandomForestRegressor"
      ],
      "metadata": {
        "id": "5DaBAEmdbIA1"
      }
    },
    {
      "cell_type": "code",
      "source": [
        "forest_model=RandomForestRegressor()\n",
        "forest_model.fit(x_train, y_train)\n",
        "forest_predict=forest_model.predict(x_test)\n",
        "print(np.sqrt(mean_squared_error(y_test, forest_predict)))"
      ],
      "metadata": {
        "execution": {
          "iopub.status.busy": "2023-02-09T11:34:35.677308Z",
          "iopub.execute_input": "2023-02-09T11:34:35.677758Z",
          "iopub.status.idle": "2023-02-09T11:34:59.335255Z",
          "shell.execute_reply.started": "2023-02-09T11:34:35.677723Z",
          "shell.execute_reply": "2023-02-09T11:34:59.333901Z"
        },
        "trusted": true,
        "colab": {
          "base_uri": "https://localhost:8080/"
        },
        "id": "Dfqq6-sSbIA1",
        "outputId": "0cdbfd09-fa23-40f5-8a12-6de8c8dcfd32"
      },
      "execution_count": 25,
      "outputs": [
        {
          "output_type": "stream",
          "name": "stdout",
          "text": [
            "25.073291502353033\n"
          ]
        }
      ]
    },
    {
      "cell_type": "markdown",
      "source": [],
      "metadata": {
        "id": "Awazx8dsbIA2"
      }
    },
    {
      "cell_type": "markdown",
      "source": [
        "DecisionTreeRegressor"
      ],
      "metadata": {
        "id": "D_E3WpqbbIA2"
      }
    },
    {
      "cell_type": "code",
      "source": [
        "tree_model=DecisionTreeRegressor(max_depth=50)\n",
        "tree_model.fit(x_train, y_train)\n",
        "tree_predict=tree_model.predict(x_test)\n",
        "print(np.sqrt(mean_squared_error(y_test, tree_predict)))"
      ],
      "metadata": {
        "execution": {
          "iopub.status.busy": "2023-02-09T11:37:19.749409Z",
          "iopub.execute_input": "2023-02-09T11:37:19.749869Z",
          "iopub.status.idle": "2023-02-09T11:37:20.164572Z",
          "shell.execute_reply.started": "2023-02-09T11:37:19.749832Z",
          "shell.execute_reply": "2023-02-09T11:37:20.163359Z"
        },
        "trusted": true,
        "colab": {
          "base_uri": "https://localhost:8080/"
        },
        "id": "pm-v-ospbIA2",
        "outputId": "7f6fec20-fcc4-42c3-f432-71d926b27d56"
      },
      "execution_count": 38,
      "outputs": [
        {
          "output_type": "stream",
          "name": "stdout",
          "text": [
            "34.331538077883344\n"
          ]
        }
      ]
    },
    {
      "cell_type": "markdown",
      "source": [
        "KNeighborsRegressor"
      ],
      "metadata": {
        "id": "xV2mwjdVbIA2"
      }
    },
    {
      "cell_type": "code",
      "source": [
        "knn_model=KNeighborsRegressor()\n",
        "knn_model.fit(x_train, y_train)\n",
        "knn_predict=knn_model.predict(x_test)\n",
        "print(np.sqrt(mean_squared_error(y_test, knn_predict)))"
      ],
      "metadata": {
        "execution": {
          "iopub.status.busy": "2023-02-09T11:38:41.003616Z",
          "iopub.execute_input": "2023-02-09T11:38:41.004049Z",
          "iopub.status.idle": "2023-02-09T11:38:41.156651Z",
          "shell.execute_reply.started": "2023-02-09T11:38:41.004016Z",
          "shell.execute_reply": "2023-02-09T11:38:41.155464Z"
        },
        "trusted": true,
        "colab": {
          "base_uri": "https://localhost:8080/"
        },
        "id": "_aVwaASybIA2",
        "outputId": "47ce20f0-3392-4fca-e067-583a96f9af4c"
      },
      "execution_count": 39,
      "outputs": [
        {
          "output_type": "stream",
          "name": "stdout",
          "text": [
            "28.533256274003907\n"
          ]
        }
      ]
    },
    {
      "cell_type": "markdown",
      "source": [
        "Let's see how good the model is working"
      ],
      "metadata": {
        "id": "b0UsYvQibIA3"
      }
    },
    {
      "cell_type": "code",
      "source": [
        "#Let's see some sample prediction and difference between label and prediction\n",
        "some_data=x_test.iloc[50:60]\n",
        "some_data_label=y_test.iloc[50:60]\n",
        "some_predict=forest_model.predict(some_data)\n",
        "pd.DataFrame({'Predict':some_predict,'Label':some_data_label})"
      ],
      "metadata": {
        "execution": {
          "iopub.status.busy": "2023-02-09T11:53:32.942867Z",
          "iopub.execute_input": "2023-02-09T11:53:32.944057Z",
          "iopub.status.idle": "2023-02-09T11:53:32.972332Z",
          "shell.execute_reply.started": "2023-02-09T11:53:32.943997Z",
          "shell.execute_reply": "2023-02-09T11:53:32.970993Z"
        },
        "trusted": true,
        "colab": {
          "base_uri": "https://localhost:8080/",
          "height": 363
        },
        "id": "SX2b_LZCbIA3",
        "outputId": "64fbf21c-ec8e-4caa-f684-39dc9cd3e4d0"
      },
      "execution_count": 40,
      "outputs": [
        {
          "output_type": "execute_result",
          "data": {
            "text/plain": [
              "        Predict   Label\n",
              "4093   160.7862  188.32\n",
              "22310   37.7881   33.46\n",
              "8034    59.4131   62.01\n",
              "35027   72.8079   49.69\n",
              "23685   69.4610   69.25\n",
              "268     57.5127   56.21\n",
              "35261   46.5591   46.64\n",
              "11905   71.4182   78.52\n",
              "30903   74.7433   82.36\n",
              "608    101.0108  415.99"
            ],
            "text/html": [
              "\n",
              "  <div id=\"df-af540293-898b-4115-bb8e-9c15106fa8ea\" class=\"colab-df-container\">\n",
              "    <div>\n",
              "<style scoped>\n",
              "    .dataframe tbody tr th:only-of-type {\n",
              "        vertical-align: middle;\n",
              "    }\n",
              "\n",
              "    .dataframe tbody tr th {\n",
              "        vertical-align: top;\n",
              "    }\n",
              "\n",
              "    .dataframe thead th {\n",
              "        text-align: right;\n",
              "    }\n",
              "</style>\n",
              "<table border=\"1\" class=\"dataframe\">\n",
              "  <thead>\n",
              "    <tr style=\"text-align: right;\">\n",
              "      <th></th>\n",
              "      <th>Predict</th>\n",
              "      <th>Label</th>\n",
              "    </tr>\n",
              "  </thead>\n",
              "  <tbody>\n",
              "    <tr>\n",
              "      <th>4093</th>\n",
              "      <td>160.7862</td>\n",
              "      <td>188.32</td>\n",
              "    </tr>\n",
              "    <tr>\n",
              "      <th>22310</th>\n",
              "      <td>37.7881</td>\n",
              "      <td>33.46</td>\n",
              "    </tr>\n",
              "    <tr>\n",
              "      <th>8034</th>\n",
              "      <td>59.4131</td>\n",
              "      <td>62.01</td>\n",
              "    </tr>\n",
              "    <tr>\n",
              "      <th>35027</th>\n",
              "      <td>72.8079</td>\n",
              "      <td>49.69</td>\n",
              "    </tr>\n",
              "    <tr>\n",
              "      <th>23685</th>\n",
              "      <td>69.4610</td>\n",
              "      <td>69.25</td>\n",
              "    </tr>\n",
              "    <tr>\n",
              "      <th>268</th>\n",
              "      <td>57.5127</td>\n",
              "      <td>56.21</td>\n",
              "    </tr>\n",
              "    <tr>\n",
              "      <th>35261</th>\n",
              "      <td>46.5591</td>\n",
              "      <td>46.64</td>\n",
              "    </tr>\n",
              "    <tr>\n",
              "      <th>11905</th>\n",
              "      <td>71.4182</td>\n",
              "      <td>78.52</td>\n",
              "    </tr>\n",
              "    <tr>\n",
              "      <th>30903</th>\n",
              "      <td>74.7433</td>\n",
              "      <td>82.36</td>\n",
              "    </tr>\n",
              "    <tr>\n",
              "      <th>608</th>\n",
              "      <td>101.0108</td>\n",
              "      <td>415.99</td>\n",
              "    </tr>\n",
              "  </tbody>\n",
              "</table>\n",
              "</div>\n",
              "    <div class=\"colab-df-buttons\">\n",
              "\n",
              "  <div class=\"colab-df-container\">\n",
              "    <button class=\"colab-df-convert\" onclick=\"convertToInteractive('df-af540293-898b-4115-bb8e-9c15106fa8ea')\"\n",
              "            title=\"Convert this dataframe to an interactive table.\"\n",
              "            style=\"display:none;\">\n",
              "\n",
              "  <svg xmlns=\"http://www.w3.org/2000/svg\" height=\"24px\" viewBox=\"0 -960 960 960\">\n",
              "    <path d=\"M120-120v-720h720v720H120Zm60-500h600v-160H180v160Zm220 220h160v-160H400v160Zm0 220h160v-160H400v160ZM180-400h160v-160H180v160Zm440 0h160v-160H620v160ZM180-180h160v-160H180v160Zm440 0h160v-160H620v160Z\"/>\n",
              "  </svg>\n",
              "    </button>\n",
              "\n",
              "  <style>\n",
              "    .colab-df-container {\n",
              "      display:flex;\n",
              "      gap: 12px;\n",
              "    }\n",
              "\n",
              "    .colab-df-convert {\n",
              "      background-color: #E8F0FE;\n",
              "      border: none;\n",
              "      border-radius: 50%;\n",
              "      cursor: pointer;\n",
              "      display: none;\n",
              "      fill: #1967D2;\n",
              "      height: 32px;\n",
              "      padding: 0 0 0 0;\n",
              "      width: 32px;\n",
              "    }\n",
              "\n",
              "    .colab-df-convert:hover {\n",
              "      background-color: #E2EBFA;\n",
              "      box-shadow: 0px 1px 2px rgba(60, 64, 67, 0.3), 0px 1px 3px 1px rgba(60, 64, 67, 0.15);\n",
              "      fill: #174EA6;\n",
              "    }\n",
              "\n",
              "    .colab-df-buttons div {\n",
              "      margin-bottom: 4px;\n",
              "    }\n",
              "\n",
              "    [theme=dark] .colab-df-convert {\n",
              "      background-color: #3B4455;\n",
              "      fill: #D2E3FC;\n",
              "    }\n",
              "\n",
              "    [theme=dark] .colab-df-convert:hover {\n",
              "      background-color: #434B5C;\n",
              "      box-shadow: 0px 1px 3px 1px rgba(0, 0, 0, 0.15);\n",
              "      filter: drop-shadow(0px 1px 2px rgba(0, 0, 0, 0.3));\n",
              "      fill: #FFFFFF;\n",
              "    }\n",
              "  </style>\n",
              "\n",
              "    <script>\n",
              "      const buttonEl =\n",
              "        document.querySelector('#df-af540293-898b-4115-bb8e-9c15106fa8ea button.colab-df-convert');\n",
              "      buttonEl.style.display =\n",
              "        google.colab.kernel.accessAllowed ? 'block' : 'none';\n",
              "\n",
              "      async function convertToInteractive(key) {\n",
              "        const element = document.querySelector('#df-af540293-898b-4115-bb8e-9c15106fa8ea');\n",
              "        const dataTable =\n",
              "          await google.colab.kernel.invokeFunction('convertToInteractive',\n",
              "                                                    [key], {});\n",
              "        if (!dataTable) return;\n",
              "\n",
              "        const docLinkHtml = 'Like what you see? Visit the ' +\n",
              "          '<a target=\"_blank\" href=https://colab.research.google.com/notebooks/data_table.ipynb>data table notebook</a>'\n",
              "          + ' to learn more about interactive tables.';\n",
              "        element.innerHTML = '';\n",
              "        dataTable['output_type'] = 'display_data';\n",
              "        await google.colab.output.renderOutput(dataTable, element);\n",
              "        const docLink = document.createElement('div');\n",
              "        docLink.innerHTML = docLinkHtml;\n",
              "        element.appendChild(docLink);\n",
              "      }\n",
              "    </script>\n",
              "  </div>\n",
              "\n",
              "\n",
              "<div id=\"df-26d29cec-8819-4a1c-886a-5eb3624954b1\">\n",
              "  <button class=\"colab-df-quickchart\" onclick=\"quickchart('df-26d29cec-8819-4a1c-886a-5eb3624954b1')\"\n",
              "            title=\"Suggest charts.\"\n",
              "            style=\"display:none;\">\n",
              "\n",
              "<svg xmlns=\"http://www.w3.org/2000/svg\" height=\"24px\"viewBox=\"0 0 24 24\"\n",
              "     width=\"24px\">\n",
              "    <g>\n",
              "        <path d=\"M19 3H5c-1.1 0-2 .9-2 2v14c0 1.1.9 2 2 2h14c1.1 0 2-.9 2-2V5c0-1.1-.9-2-2-2zM9 17H7v-7h2v7zm4 0h-2V7h2v10zm4 0h-2v-4h2v4z\"/>\n",
              "    </g>\n",
              "</svg>\n",
              "  </button>\n",
              "\n",
              "<style>\n",
              "  .colab-df-quickchart {\n",
              "      --bg-color: #E8F0FE;\n",
              "      --fill-color: #1967D2;\n",
              "      --hover-bg-color: #E2EBFA;\n",
              "      --hover-fill-color: #174EA6;\n",
              "      --disabled-fill-color: #AAA;\n",
              "      --disabled-bg-color: #DDD;\n",
              "  }\n",
              "\n",
              "  [theme=dark] .colab-df-quickchart {\n",
              "      --bg-color: #3B4455;\n",
              "      --fill-color: #D2E3FC;\n",
              "      --hover-bg-color: #434B5C;\n",
              "      --hover-fill-color: #FFFFFF;\n",
              "      --disabled-bg-color: #3B4455;\n",
              "      --disabled-fill-color: #666;\n",
              "  }\n",
              "\n",
              "  .colab-df-quickchart {\n",
              "    background-color: var(--bg-color);\n",
              "    border: none;\n",
              "    border-radius: 50%;\n",
              "    cursor: pointer;\n",
              "    display: none;\n",
              "    fill: var(--fill-color);\n",
              "    height: 32px;\n",
              "    padding: 0;\n",
              "    width: 32px;\n",
              "  }\n",
              "\n",
              "  .colab-df-quickchart:hover {\n",
              "    background-color: var(--hover-bg-color);\n",
              "    box-shadow: 0 1px 2px rgba(60, 64, 67, 0.3), 0 1px 3px 1px rgba(60, 64, 67, 0.15);\n",
              "    fill: var(--button-hover-fill-color);\n",
              "  }\n",
              "\n",
              "  .colab-df-quickchart-complete:disabled,\n",
              "  .colab-df-quickchart-complete:disabled:hover {\n",
              "    background-color: var(--disabled-bg-color);\n",
              "    fill: var(--disabled-fill-color);\n",
              "    box-shadow: none;\n",
              "  }\n",
              "\n",
              "  .colab-df-spinner {\n",
              "    border: 2px solid var(--fill-color);\n",
              "    border-color: transparent;\n",
              "    border-bottom-color: var(--fill-color);\n",
              "    animation:\n",
              "      spin 1s steps(1) infinite;\n",
              "  }\n",
              "\n",
              "  @keyframes spin {\n",
              "    0% {\n",
              "      border-color: transparent;\n",
              "      border-bottom-color: var(--fill-color);\n",
              "      border-left-color: var(--fill-color);\n",
              "    }\n",
              "    20% {\n",
              "      border-color: transparent;\n",
              "      border-left-color: var(--fill-color);\n",
              "      border-top-color: var(--fill-color);\n",
              "    }\n",
              "    30% {\n",
              "      border-color: transparent;\n",
              "      border-left-color: var(--fill-color);\n",
              "      border-top-color: var(--fill-color);\n",
              "      border-right-color: var(--fill-color);\n",
              "    }\n",
              "    40% {\n",
              "      border-color: transparent;\n",
              "      border-right-color: var(--fill-color);\n",
              "      border-top-color: var(--fill-color);\n",
              "    }\n",
              "    60% {\n",
              "      border-color: transparent;\n",
              "      border-right-color: var(--fill-color);\n",
              "    }\n",
              "    80% {\n",
              "      border-color: transparent;\n",
              "      border-right-color: var(--fill-color);\n",
              "      border-bottom-color: var(--fill-color);\n",
              "    }\n",
              "    90% {\n",
              "      border-color: transparent;\n",
              "      border-bottom-color: var(--fill-color);\n",
              "    }\n",
              "  }\n",
              "</style>\n",
              "\n",
              "  <script>\n",
              "    async function quickchart(key) {\n",
              "      const quickchartButtonEl =\n",
              "        document.querySelector('#' + key + ' button');\n",
              "      quickchartButtonEl.disabled = true;  // To prevent multiple clicks.\n",
              "      quickchartButtonEl.classList.add('colab-df-spinner');\n",
              "      try {\n",
              "        const charts = await google.colab.kernel.invokeFunction(\n",
              "            'suggestCharts', [key], {});\n",
              "      } catch (error) {\n",
              "        console.error('Error during call to suggestCharts:', error);\n",
              "      }\n",
              "      quickchartButtonEl.classList.remove('colab-df-spinner');\n",
              "      quickchartButtonEl.classList.add('colab-df-quickchart-complete');\n",
              "    }\n",
              "    (() => {\n",
              "      let quickchartButtonEl =\n",
              "        document.querySelector('#df-26d29cec-8819-4a1c-886a-5eb3624954b1 button');\n",
              "      quickchartButtonEl.style.display =\n",
              "        google.colab.kernel.accessAllowed ? 'block' : 'none';\n",
              "    })();\n",
              "  </script>\n",
              "</div>\n",
              "    </div>\n",
              "  </div>\n"
            ]
          },
          "metadata": {},
          "execution_count": 40
        }
      ]
    }
  ]
}